{
 "cells": [
  {
   "cell_type": "code",
   "execution_count": 18,
   "metadata": {},
   "outputs": [],
   "source": [
    "# import libraries\n",
    "import pandas as pd\n",
    "import numpy as np\n",
    "import matplotlib.pyplot as plt\n",
    "from sklearn.feature_extraction.text import CountVectorizer, TfidfVectorizer\n",
    "from sklearn.model_selection import train_test_split\n",
    "from sklearn.model_selection import KFold\n",
    "import numpy as np\n",
    "from sklearn.metrics import accuracy_score\n",
    "from sklearn.metrics import f1_score,precision_score, recall_score, confusion_matrix,roc_auc_score\n",
    "# pipeline\n",
    "from sklearn.pipeline import Pipeline\n",
    "from sklearn.linear_model import LogisticRegression\n",
    "from sklearn.tree import DecisionTreeClassifier\n",
    "from sklearn.ensemble import RandomForestClassifier\n",
    "from sklearn.svm import SVC\n",
    "from sklearn.neighbors import KNeighborsClassifier\n",
    "from sklearn.ensemble import GradientBoostingClassifier\n",
    "from sklearn.ensemble import AdaBoostClassifier\n",
    "from sklearn.neural_network import MLPClassifier\n",
    "from catboost import CatBoostClassifier\n",
    "from lightgbm import LGBMClassifier\n",
    "from gensim.models import Word2Vec\n",
    "import optuna\n",
    "import seaborn as sns\n",
    "\n",
    "import warnings\n",
    "warnings.filterwarnings('ignore')\n",
    "random_state = 42\n",
    "# set random state\n",
    "np.random.seed(random_state)\n"
   ]
  },
  {
   "cell_type": "code",
   "execution_count": 19,
   "metadata": {},
   "outputs": [
    {
     "data": {
      "text/html": [
       "<div>\n",
       "<style scoped>\n",
       "    .dataframe tbody tr th:only-of-type {\n",
       "        vertical-align: middle;\n",
       "    }\n",
       "\n",
       "    .dataframe tbody tr th {\n",
       "        vertical-align: top;\n",
       "    }\n",
       "\n",
       "    .dataframe thead th {\n",
       "        text-align: right;\n",
       "    }\n",
       "</style>\n",
       "<table border=\"1\" class=\"dataframe\">\n",
       "  <thead>\n",
       "    <tr style=\"text-align: right;\">\n",
       "      <th></th>\n",
       "      <th>Unnamed: 0</th>\n",
       "      <th>Sentence</th>\n",
       "      <th>Label</th>\n",
       "    </tr>\n",
       "  </thead>\n",
       "  <tbody>\n",
       "    <tr>\n",
       "      <th>0</th>\n",
       "      <td>0</td>\n",
       "      <td>&lt;li&gt;&lt;a href=\"/wiki/File:Socrates.png\" class=\"i...</td>\n",
       "      <td>0</td>\n",
       "    </tr>\n",
       "    <tr>\n",
       "      <th>1</th>\n",
       "      <td>1</td>\n",
       "      <td>&lt;tt onmouseover=\"alert(1)\"&gt;test&lt;/tt&gt;</td>\n",
       "      <td>1</td>\n",
       "    </tr>\n",
       "    <tr>\n",
       "      <th>2</th>\n",
       "      <td>2</td>\n",
       "      <td>\\t &lt;/span&gt; &lt;span class=\"reference-text\"&gt;Steeri...</td>\n",
       "      <td>0</td>\n",
       "    </tr>\n",
       "    <tr>\n",
       "      <th>3</th>\n",
       "      <td>3</td>\n",
       "      <td>\\t &lt;/span&gt; &lt;span class=\"reference-text\"&gt;&lt;cite ...</td>\n",
       "      <td>0</td>\n",
       "    </tr>\n",
       "    <tr>\n",
       "      <th>4</th>\n",
       "      <td>4</td>\n",
       "      <td>\\t &lt;/span&gt;. &lt;a href=\"/wiki/Digital_object_iden...</td>\n",
       "      <td>0</td>\n",
       "    </tr>\n",
       "  </tbody>\n",
       "</table>\n",
       "</div>"
      ],
      "text/plain": [
       "   Unnamed: 0                                           Sentence  Label\n",
       "0           0  <li><a href=\"/wiki/File:Socrates.png\" class=\"i...      0\n",
       "1           1               <tt onmouseover=\"alert(1)\">test</tt>      1\n",
       "2           2  \\t </span> <span class=\"reference-text\">Steeri...      0\n",
       "3           3  \\t </span> <span class=\"reference-text\"><cite ...      0\n",
       "4           4  \\t </span>. <a href=\"/wiki/Digital_object_iden...      0"
      ]
     },
     "execution_count": 19,
     "metadata": {},
     "output_type": "execute_result"
    }
   ],
   "source": [
    "# loading data\n",
    "data = pd.read_csv('data/XSS_dataset.csv')\n",
    "data.head()"
   ]
  },
  {
   "cell_type": "code",
   "execution_count": 20,
   "metadata": {},
   "outputs": [
    {
     "data": {
      "text/html": [
       "<div>\n",
       "<style scoped>\n",
       "    .dataframe tbody tr th:only-of-type {\n",
       "        vertical-align: middle;\n",
       "    }\n",
       "\n",
       "    .dataframe tbody tr th {\n",
       "        vertical-align: top;\n",
       "    }\n",
       "\n",
       "    .dataframe thead th {\n",
       "        text-align: right;\n",
       "    }\n",
       "</style>\n",
       "<table border=\"1\" class=\"dataframe\">\n",
       "  <thead>\n",
       "    <tr style=\"text-align: right;\">\n",
       "      <th></th>\n",
       "      <th>Sentence</th>\n",
       "      <th>Label</th>\n",
       "    </tr>\n",
       "  </thead>\n",
       "  <tbody>\n",
       "    <tr>\n",
       "      <th>0</th>\n",
       "      <td>&lt;li&gt;&lt;a href=\"/wiki/File:Socrates.png\" class=\"i...</td>\n",
       "      <td>0</td>\n",
       "    </tr>\n",
       "    <tr>\n",
       "      <th>1</th>\n",
       "      <td>&lt;tt onmouseover=\"alert(1)\"&gt;test&lt;/tt&gt;</td>\n",
       "      <td>1</td>\n",
       "    </tr>\n",
       "    <tr>\n",
       "      <th>2</th>\n",
       "      <td>\\t &lt;/span&gt; &lt;span class=\"reference-text\"&gt;Steeri...</td>\n",
       "      <td>0</td>\n",
       "    </tr>\n",
       "    <tr>\n",
       "      <th>3</th>\n",
       "      <td>\\t &lt;/span&gt; &lt;span class=\"reference-text\"&gt;&lt;cite ...</td>\n",
       "      <td>0</td>\n",
       "    </tr>\n",
       "    <tr>\n",
       "      <th>4</th>\n",
       "      <td>\\t &lt;/span&gt;. &lt;a href=\"/wiki/Digital_object_iden...</td>\n",
       "      <td>0</td>\n",
       "    </tr>\n",
       "  </tbody>\n",
       "</table>\n",
       "</div>"
      ],
      "text/plain": [
       "                                            Sentence  Label\n",
       "0  <li><a href=\"/wiki/File:Socrates.png\" class=\"i...      0\n",
       "1               <tt onmouseover=\"alert(1)\">test</tt>      1\n",
       "2  \\t </span> <span class=\"reference-text\">Steeri...      0\n",
       "3  \\t </span> <span class=\"reference-text\"><cite ...      0\n",
       "4  \\t </span>. <a href=\"/wiki/Digital_object_iden...      0"
      ]
     },
     "execution_count": 20,
     "metadata": {},
     "output_type": "execute_result"
    }
   ],
   "source": [
    "# remove unnamed column\n",
    "col_to_remove = 'Unnamed: 0'\n",
    "data = data.drop(col_to_remove, axis=1)\n",
    "data.head()"
   ]
  },
  {
   "cell_type": "code",
   "execution_count": 21,
   "metadata": {},
   "outputs": [
    {
     "name": "stdout",
     "output_type": "stream",
     "text": [
      "total number of samples:  13686\n"
     ]
    }
   ],
   "source": [
    "print(\"total number of samples: \", len(data))"
   ]
  },
  {
   "cell_type": "code",
   "execution_count": 22,
   "metadata": {},
   "outputs": [
    {
     "data": {
      "text/plain": [
       "'<li><a href=\"/wiki/File:Socrates.png\" class=\"image\"><img alt=\"Socrates.png\" src=\"//upload.wikimedia.org/wikipedia/commons/thumb/c/cd/Socrates.png/18px-Socrates.png\" decoding=\"async\" width=\"18\" height=\"28\" class=\"noviewer\" srcset=\"//upload.wikimedia.org/wikipedia/commons/thumb/c/cd/Socrates.png/27px-Socrates.png 1.5x, //upload.wikimedia.org/wikipedia/commons/thumb/c/cd/Socrates.png/36px-Socrates.png 2x\" data-file-width=\"326\" data-file-height=\"500\" /> </a> <a href=\"/wiki/Portal:Philosophy\" title=\"Portal:Philosophy\">Philosophy&#32;portal </a> </li> </ul>'"
      ]
     },
     "execution_count": 22,
     "metadata": {},
     "output_type": "execute_result"
    }
   ],
   "source": [
    "data['Sentence'][0]"
   ]
  },
  {
   "cell_type": "code",
   "execution_count": 23,
   "metadata": {},
   "outputs": [
    {
     "data": {
      "text/plain": [
       "<AxesSubplot:ylabel='Label'>"
      ]
     },
     "execution_count": 23,
     "metadata": {},
     "output_type": "execute_result"
    },
    {
     "data": {
      "image/png": "[encoded data removed]",
      "text/plain": [
       "<Figure size 640x480 with 1 Axes>"
      ]
     },
     "metadata": {},
     "output_type": "display_data"
    }
   ],
   "source": [
    "# pie chart for label\n",
    "data['Label'].value_counts().plot(kind='pie', autopct='%1.0f%%')"
   ]
  },
  {
   "cell_type": "code",
   "execution_count": 24,
   "metadata": {},
   "outputs": [],
   "source": [
    "# preprocessing the data and adding more features\n",
    "# influenced from https://ieeexplore.ieee.org/abstract/document/9270052 and word2vec as suggested in https://isi.jhu.edu/wp-content/uploads/2020/04/HICSS19-XSS-Analysis-hicss-draft-9-22-2018-V3.pdf\n",
    "def feature_engineering(dataset: pd.DataFrame) -> pd.DataFrame:\n",
    "    # Number of characters\n",
    "    dataset['num_characters'] = dataset['Sentence'].apply(lambda x: len(x))\n",
    "    \n",
    "    # Presence of doubled characters\n",
    "    dataset['doubled_characters'] = dataset['Sentence'].apply(lambda x: any(x[i] == x[i+1] for i in range(len(x)-1)))\n",
    "    \n",
    "    # Presence of special characters\n",
    "    special_characters = ['<', '>', '/', '\\\\', '{', '}', '[', ']', '(', ')', '*', '&', '^', '%', '$', '#', '@', '!', '~']\n",
    "    dataset['special_characters'] = dataset['Sentence'].apply(lambda x: any(c in special_characters for c in x))\n",
    "    \n",
    "    # content-length\n",
    "    dataset['content_length'] = dataset['Sentence'].apply(lambda x: len(x))\n",
    "    \n",
    "    # Number of keywords\n",
    "    keywords = ['signup', 'login', 'contact', 'search']\n",
    "    dataset['num_keywords'] = dataset['Sentence'].apply(lambda x: sum(kw in x for kw in keywords))\n",
    "    \n",
    "    # Script-tags\n",
    "    dataset['script_tags'] = dataset['Sentence'].apply(lambda x: '<script' in x or '</script>' in x)\n",
    "    \n",
    "    # Presence of cookies\n",
    "    dataset['cookies'] = dataset['Sentence'].apply(lambda x: 'cookie' in x)\n",
    "    \n",
    "    # Word2vec features\n",
    "    sentences = [list(s) for s in dataset['Sentence']]\n",
    "    model = Word2Vec(sentences, min_count=1, vector_size=50)\n",
    "    \n",
    "    def get_word2vec_features(sentence):\n",
    "        vectors = [model.wv[c] for c in sentence if c in model.wv]\n",
    "        if not vectors:\n",
    "            return [0] * model.vector_size\n",
    "        return list(sum(vectors) / len(vectors))\n",
    "    \n",
    "    word2vec_features = pd.DataFrame(dataset['Sentence'].apply(get_word2vec_features).tolist())\n",
    "    word2vec_features.columns = [f'word2vec_{i}' for i in range(model.vector_size)]\n",
    "    \n",
    "    return pd.concat([dataset, word2vec_features], axis=1)\n",
    "\n",
    "df = data.copy()\n",
    "df = feature_engineering(df)"
   ]
  },
  {
   "cell_type": "code",
   "execution_count": 25,
   "metadata": {},
   "outputs": [
    {
     "data": {
      "text/html": [
       "<div>\n",
       "<style scoped>\n",
       "    .dataframe tbody tr th:only-of-type {\n",
       "        vertical-align: middle;\n",
       "    }\n",
       "\n",
       "    .dataframe tbody tr th {\n",
       "        vertical-align: top;\n",
       "    }\n",
       "\n",
       "    .dataframe thead th {\n",
       "        text-align: right;\n",
       "    }\n",
       "</style>\n",
       "<table border=\"1\" class=\"dataframe\">\n",
       "  <thead>\n",
       "    <tr style=\"text-align: right;\">\n",
       "      <th></th>\n",
       "      <th>Label</th>\n",
       "      <th>num_characters</th>\n",
       "      <th>doubled_characters</th>\n",
       "      <th>special_characters</th>\n",
       "      <th>content_length</th>\n",
       "      <th>num_keywords</th>\n",
       "      <th>script_tags</th>\n",
       "      <th>cookies</th>\n",
       "      <th>word2vec_0</th>\n",
       "      <th>word2vec_1</th>\n",
       "      <th>...</th>\n",
       "      <th>word2vec_40</th>\n",
       "      <th>word2vec_41</th>\n",
       "      <th>word2vec_42</th>\n",
       "      <th>word2vec_43</th>\n",
       "      <th>word2vec_44</th>\n",
       "      <th>word2vec_45</th>\n",
       "      <th>word2vec_46</th>\n",
       "      <th>word2vec_47</th>\n",
       "      <th>word2vec_48</th>\n",
       "      <th>word2vec_49</th>\n",
       "    </tr>\n",
       "  </thead>\n",
       "  <tbody>\n",
       "    <tr>\n",
       "      <th>0</th>\n",
       "      <td>0</td>\n",
       "      <td>557</td>\n",
       "      <td>True</td>\n",
       "      <td>True</td>\n",
       "      <td>557</td>\n",
       "      <td>0</td>\n",
       "      <td>False</td>\n",
       "      <td>False</td>\n",
       "      <td>-0.207332</td>\n",
       "      <td>-0.146628</td>\n",
       "      <td>...</td>\n",
       "      <td>-0.328812</td>\n",
       "      <td>0.547116</td>\n",
       "      <td>0.349720</td>\n",
       "      <td>0.070716</td>\n",
       "      <td>0.376804</td>\n",
       "      <td>-0.252959</td>\n",
       "      <td>0.178369</td>\n",
       "      <td>-0.107973</td>\n",
       "      <td>-0.386612</td>\n",
       "      <td>-0.100054</td>\n",
       "    </tr>\n",
       "    <tr>\n",
       "      <th>1</th>\n",
       "      <td>1</td>\n",
       "      <td>36</td>\n",
       "      <td>True</td>\n",
       "      <td>True</td>\n",
       "      <td>36</td>\n",
       "      <td>0</td>\n",
       "      <td>False</td>\n",
       "      <td>False</td>\n",
       "      <td>-0.519252</td>\n",
       "      <td>-0.440489</td>\n",
       "      <td>...</td>\n",
       "      <td>-0.449003</td>\n",
       "      <td>-0.006960</td>\n",
       "      <td>-0.085172</td>\n",
       "      <td>-0.165305</td>\n",
       "      <td>0.244060</td>\n",
       "      <td>-0.521356</td>\n",
       "      <td>-0.274165</td>\n",
       "      <td>0.229108</td>\n",
       "      <td>-0.123470</td>\n",
       "      <td>-0.497395</td>\n",
       "    </tr>\n",
       "    <tr>\n",
       "      <th>2</th>\n",
       "      <td>0</td>\n",
       "      <td>233</td>\n",
       "      <td>True</td>\n",
       "      <td>True</td>\n",
       "      <td>233</td>\n",
       "      <td>0</td>\n",
       "      <td>False</td>\n",
       "      <td>False</td>\n",
       "      <td>-0.165519</td>\n",
       "      <td>-0.214986</td>\n",
       "      <td>...</td>\n",
       "      <td>-0.517975</td>\n",
       "      <td>0.287183</td>\n",
       "      <td>0.111894</td>\n",
       "      <td>-0.103683</td>\n",
       "      <td>0.274325</td>\n",
       "      <td>-0.289076</td>\n",
       "      <td>-0.091516</td>\n",
       "      <td>-0.052000</td>\n",
       "      <td>-0.184442</td>\n",
       "      <td>-0.297651</td>\n",
       "    </tr>\n",
       "    <tr>\n",
       "      <th>3</th>\n",
       "      <td>0</td>\n",
       "      <td>395</td>\n",
       "      <td>True</td>\n",
       "      <td>True</td>\n",
       "      <td>395</td>\n",
       "      <td>0</td>\n",
       "      <td>False</td>\n",
       "      <td>False</td>\n",
       "      <td>-0.206685</td>\n",
       "      <td>-0.251748</td>\n",
       "      <td>...</td>\n",
       "      <td>-0.421507</td>\n",
       "      <td>0.411727</td>\n",
       "      <td>0.169778</td>\n",
       "      <td>0.047744</td>\n",
       "      <td>0.417386</td>\n",
       "      <td>-0.394629</td>\n",
       "      <td>-0.081718</td>\n",
       "      <td>-0.085480</td>\n",
       "      <td>-0.150681</td>\n",
       "      <td>-0.287796</td>\n",
       "    </tr>\n",
       "    <tr>\n",
       "      <th>4</th>\n",
       "      <td>0</td>\n",
       "      <td>422</td>\n",
       "      <td>True</td>\n",
       "      <td>True</td>\n",
       "      <td>422</td>\n",
       "      <td>0</td>\n",
       "      <td>False</td>\n",
       "      <td>False</td>\n",
       "      <td>-0.121594</td>\n",
       "      <td>-0.286606</td>\n",
       "      <td>...</td>\n",
       "      <td>-0.339744</td>\n",
       "      <td>0.434240</td>\n",
       "      <td>-0.033923</td>\n",
       "      <td>-0.062052</td>\n",
       "      <td>0.023198</td>\n",
       "      <td>0.058819</td>\n",
       "      <td>0.191581</td>\n",
       "      <td>0.040920</td>\n",
       "      <td>-0.161448</td>\n",
       "      <td>-0.247162</td>\n",
       "    </tr>\n",
       "  </tbody>\n",
       "</table>\n",
       "<p>5 rows × 58 columns</p>\n",
       "</div>"
      ],
      "text/plain": [
       "   Label  num_characters  doubled_characters  special_characters  \\\n",
       "0      0             557                True                True   \n",
       "1      1              36                True                True   \n",
       "2      0             233                True                True   \n",
       "3      0             395                True                True   \n",
       "4      0             422                True                True   \n",
       "\n",
       "   content_length  num_keywords  script_tags  cookies  word2vec_0  word2vec_1  \\\n",
       "0             557             0        False    False   -0.207332   -0.146628   \n",
       "1              36             0        False    False   -0.519252   -0.440489   \n",
       "2             233             0        False    False   -0.165519   -0.214986   \n",
       "3             395             0        False    False   -0.206685   -0.251748   \n",
       "4             422             0        False    False   -0.121594   -0.286606   \n",
       "\n",
       "   ...  word2vec_40  word2vec_41  word2vec_42  word2vec_43  word2vec_44  \\\n",
       "0  ...    -0.328812     0.547116     0.349720     0.070716     0.376804   \n",
       "1  ...    -0.449003    -0.006960    -0.085172    -0.165305     0.244060   \n",
       "2  ...    -0.517975     0.287183     0.111894    -0.103683     0.274325   \n",
       "3  ...    -0.421507     0.411727     0.169778     0.047744     0.417386   \n",
       "4  ...    -0.339744     0.434240    -0.033923    -0.062052     0.023198   \n",
       "\n",
       "   word2vec_45  word2vec_46  word2vec_47  word2vec_48  word2vec_49  \n",
       "0    -0.252959     0.178369    -0.107973    -0.386612    -0.100054  \n",
       "1    -0.521356    -0.274165     0.229108    -0.123470    -0.497395  \n",
       "2    -0.289076    -0.091516    -0.052000    -0.184442    -0.297651  \n",
       "3    -0.394629    -0.081718    -0.085480    -0.150681    -0.287796  \n",
       "4     0.058819     0.191581     0.040920    -0.161448    -0.247162  \n",
       "\n",
       "[5 rows x 58 columns]"
      ]
     },
     "execution_count": 25,
     "metadata": {},
     "output_type": "execute_result"
    }
   ],
   "source": [
    "# drop the sentence column\n",
    "df = df.drop(['Sentence'], axis=1)\n",
    "X = df.drop(['Label'], axis=1)\n",
    "y = df['Label']\n",
    "df.head()"
   ]
  },
  {
   "cell_type": "code",
   "execution_count": 26,
   "metadata": {},
   "outputs": [],
   "source": [
    "X_train, X_test, y_train, y_test = train_test_split(X, y, test_size=0.2, random_state=42)"
   ]
  },
  {
   "cell_type": "code",
   "execution_count": 27,
   "metadata": {},
   "outputs": [],
   "source": [
    "# hyperparameter tuning using optuna\n",
    "# function to tune hyperparameters using optuna\n",
    "def tune_model(model_class, X_train, y_train, model_name, parameter, k,trials=10):\n",
    "    # define the objective function\n",
    "    def objective(trial):\n",
    "        # sample hyperparameters from parameter argument\n",
    "        params = {}\n",
    "        for key, value in parameter.items():\n",
    "            if isinstance(value, list):\n",
    "                params[key] = trial.suggest_categorical(key, value)\n",
    "            elif isinstance(value, tuple):\n",
    "                if value[0] == 'int':\n",
    "                    params[key] = trial.suggest_int(key, value[1], value[2])\n",
    "                elif value[0] == 'float':\n",
    "                    params[key] = trial.suggest_float(key, value[1], value[2])\n",
    "                else:\n",
    "                    raise ValueError('Invalid parameter type')\n",
    "            else:\n",
    "                raise ValueError('Invalid parameter format')\n",
    "        \n",
    "        # use k fold cross validation\n",
    "        kf = KFold(n_splits=k, shuffle=True, random_state=random_state)\n",
    "        scores = []\n",
    "        for train_index, test_index in kf.split(y_train):\n",
    "            X_tra, X_tes = X_train.iloc[train_index], X_train.iloc[test_index]\n",
    "            y_tra, y_tes = y_train.iloc[train_index], y_train.iloc[test_index]\n",
    "            \n",
    "            # train the model\n",
    "            model = model_class(**params)\n",
    "\n",
    "            model.fit(X_tra, y_tra)\n",
    "            \n",
    "            # predict and evaluate on test set\n",
    "            pred = model.predict(X_tes)\n",
    "            score = f1_score(y_tes, pred, average='weighted')\n",
    "            scores.append(score)\n",
    "        \n",
    "        # return the negative average f1 score as the objective value\n",
    "        return -np.mean(scores)\n",
    "    \n",
    "    # create a study object and optimize the objective function\n",
    "    study = optuna.create_study()\n",
    "    study.optimize(objective, n_trials=trials)\n",
    "    \n",
    "    # return the best parameters and the best score\n",
    "    return study.best_params, -study.best_value\n"
   ]
  },
  {
   "cell_type": "code",
   "execution_count": 28,
   "metadata": {},
   "outputs": [],
   "source": [
    "# defining 10 different models\n",
    "models = []\n",
    "models.append(('LR', LogisticRegression(random_state=random_state)))\n",
    "models.append(('DT', DecisionTreeClassifier(random_state=random_state)))\n",
    "models.append(('RF', RandomForestClassifier(random_state=random_state)))\n",
    "models.append(('SVM', SVC(random_state=random_state)))\n",
    "models.append(('KNN', KNeighborsClassifier()))\n",
    "models.append(('GB', GradientBoostingClassifier(random_state=random_state)))\n",
    "models.append(('AB', AdaBoostClassifier(random_state=random_state)))\n",
    "models.append(('MLP', MLPClassifier(hidden_layer_sizes=(20,10), random_state=random_state)))\n",
    "models.append(('CB', CatBoostClassifier(logging_level='Silent', random_state=random_state, thread_count=-1)))\n",
    "models.append(('LGBM', LGBMClassifier(random_state=random_state, n_jobs=-1)))"
   ]
  },
  {
   "cell_type": "code",
   "execution_count": 29,
   "metadata": {},
   "outputs": [],
   "source": [
    "import optuna\n",
    "# define the parameters for each model\n",
    "parameters = {}\n",
    "parameters['LR'] = {'penalty':['l2'], 'C': ('float', 0.01, 10.0), 'solver': ['lbfgs', 'liblinear']}\n",
    "parameters['DT'] = {'criterion': ['gini', 'entropy'], 'max_depth': ('int', 2, 20), 'min_samples_split': ('int', 2, 10), 'min_samples_leaf': ('int', 1, 10)}\n",
    "parameters['RF'] = {'n_estimators': ('int', 10, 100), 'criterion': ['gini', 'entropy'], 'max_depth': ('int', 2, 20), 'min_samples_split': ('int', 2, 10), 'min_samples_leaf': ('int', 1, 10),'n_jobs': [-1]}\n",
    "parameters['SVM'] = {'kernel': ['linear', 'rbf'], 'C': ('float', 1, 10.0), 'gamma': ('float', 1e-4, 1e-1)}\n",
    "parameters['KNN'] = {'n_neighbors': ('int', 1, 8), 'weights': ['uniform', 'distance'], 'metric': ['euclidean', 'manhattan', 'minkowski']}\n",
    "parameters['GB'] = {'n_estimators': ('int', 10,150), 'learning_rate': ('float', 1e-4, 1e-1), 'subsample': ('float', 0.4, 1.0), 'max_depth': ('int', 2, 6), 'min_samples_split': ('int', 2, 10), 'min_samples_leaf': ('int', 1, 10)}\n",
    "parameters['AB'] = {'n_estimators': ('int', 10, 50), 'learning_rate': ('float', 1e-4, 1e-1)}\n",
    "parameters['MLP'] = {'activation': ['logistic', 'relu'], 'solver': ['sgd', 'adam'], 'alpha': ('float', 1e-8, 10.0), 'learning_rate_init': ('float', 1e-4, 1e-1)}\n",
    "parameters['CB'] = {'iterations': ('int', 10, 150), 'learning_rate': ('float', 1e-4, 1e-1),  'l2_leaf_reg': ('float', 1e-8, 10.0), 'verbose': [False]}\n",
    "parameters['LGBM'] = {'num_leaves': ('int', 2, 256), 'learning_rate': ('float', 1e-4, 1e-1), 'colsample_bytree': ('float', 0.4, 1.0), 'subsample': ('float', 0.4, 1.0), 'subsample_freq': ('int', 1, 7), 'reg_alpha': ('float', 1e-8, 10.0), 'reg_lambda': ('float', 1e-8, 10.0), 'n_jobs': [-1], 'verbose': [-1]}\n",
    "\n",
    "\n",
    "# tune each model using the tune_model function\n",
    "results = {}\n"
   ]
  },
  {
   "cell_type": "code",
   "execution_count": 30,
   "metadata": {},
   "outputs": [
    {
     "name": "stderr",
     "output_type": "stream",
     "text": [
      "[I 2023-09-02 12:08:20,127] A new study created in memory with name: no-name-7030abf7-8845-4894-999e-2554c070a5d1\n",
      "[I 2023-09-02 12:08:21,712] Trial 0 finished with value: -0.9943367561078608 and parameters: {'penalty': 'l2', 'C': 7.324023190843915, 'solver': 'liblinear'}. Best is trial 0 with value: -0.9943367561078608.\n",
      "[I 2023-09-02 12:08:22,847] Trial 1 finished with value: -0.994154215393172 and parameters: {'penalty': 'l2', 'C': 7.904516398490127, 'solver': 'liblinear'}. Best is trial 0 with value: -0.9943367561078608.\n",
      "[I 2023-09-02 12:08:23,841] Trial 2 finished with value: -0.993606238860471 and parameters: {'penalty': 'l2', 'C': 2.187014065966645, 'solver': 'liblinear'}. Best is trial 0 with value: -0.9943367561078608.\n",
      "[I 2023-09-02 12:08:24,942] Trial 3 finished with value: -0.9941540177329449 and parameters: {'penalty': 'l2', 'C': 6.707513153640988, 'solver': 'liblinear'}. Best is trial 0 with value: -0.9943367561078608.\n",
      "[I 2023-09-02 12:08:25,801] Trial 4 finished with value: -0.9931492439243608 and parameters: {'penalty': 'l2', 'C': 1.4499691352773565, 'solver': 'lbfgs'}. Best is trial 0 with value: -0.9943367561078608.\n",
      "[I 2023-09-02 12:08:26,937] Trial 5 finished with value: -0.9942455200927318 and parameters: {'penalty': 'l2', 'C': 4.5844575068542675, 'solver': 'liblinear'}. Best is trial 0 with value: -0.9943367561078608.\n",
      "[I 2023-09-02 12:08:27,889] Trial 6 finished with value: -0.9941542243739262 and parameters: {'penalty': 'l2', 'C': 3.423325678855497, 'solver': 'liblinear'}. Best is trial 0 with value: -0.9943367561078608.\n",
      "[I 2023-09-02 12:08:28,669] Trial 7 finished with value: -0.9926015653746687 and parameters: {'penalty': 'l2', 'C': 1.2348237976695142, 'solver': 'lbfgs'}. Best is trial 0 with value: -0.9943367561078608.\n",
      "[I 2023-09-02 12:08:29,579] Trial 8 finished with value: -0.9936061445269948 and parameters: {'penalty': 'l2', 'C': 1.1823064522802909, 'solver': 'liblinear'}. Best is trial 0 with value: -0.9943367561078608.\n",
      "[I 2023-09-02 12:08:30,332] Trial 9 finished with value: -0.9935147294342404 and parameters: {'penalty': 'l2', 'C': 7.341774529791786, 'solver': 'lbfgs'}. Best is trial 0 with value: -0.9943367561078608.\n"
     ]
    },
    {
     "name": "stdout",
     "output_type": "stream",
     "text": [
      "Best parameters:  {'penalty': 'l2', 'C': 7.324023190843915, 'solver': 'liblinear'}\n",
      "Best score:  0.9943367561078608\n"
     ]
    }
   ],
   "source": [
    "logreg = models[0][1].__class__\n",
    "best_params, best_score = tune_model(logreg, X_train, y_train, \"LR\", parameters[\"LR\"], k=5)\n",
    "print(\"Best parameters: \", best_params)\n",
    "print(\"Best score: \", best_score)"
   ]
  },
  {
   "cell_type": "code",
   "execution_count": 27,
   "metadata": {},
   "outputs": [
    {
     "name": "stderr",
     "output_type": "stream",
     "text": [
      "[I 2023-08-24 18:05:49,042] A new study created in memory with name: no-name-3693411a-3a7a-4d0b-93aa-5970e4adb454\n",
      "[I 2023-08-24 18:05:49,532] Trial 0 finished with value: -0.9810134919974051 and parameters: {'criterion': 'gini', 'max_depth': 2, 'min_samples_split': 4, 'min_samples_leaf': 2}. Best is trial 0 with value: -0.9810134919974051.\n",
      "[I 2023-08-24 18:05:50,732] Trial 1 finished with value: -0.9914159043408114 and parameters: {'criterion': 'entropy', 'max_depth': 14, 'min_samples_split': 4, 'min_samples_leaf': 4}. Best is trial 1 with value: -0.9914159043408114.\n",
      "[I 2023-08-24 18:05:51,887] Trial 2 finished with value: -0.99041164661876 and parameters: {'criterion': 'entropy', 'max_depth': 13, 'min_samples_split': 3, 'min_samples_leaf': 6}. Best is trial 1 with value: -0.9914159043408114.\n",
      "[I 2023-08-24 18:05:52,414] Trial 3 finished with value: -0.9836587106474891 and parameters: {'criterion': 'gini', 'max_depth': 3, 'min_samples_split': 3, 'min_samples_leaf': 6}. Best is trial 1 with value: -0.9914159043408114.\n",
      "[I 2023-08-24 18:05:53,605] Trial 4 finished with value: -0.9916897355482444 and parameters: {'criterion': 'entropy', 'max_depth': 19, 'min_samples_split': 6, 'min_samples_leaf': 2}. Best is trial 4 with value: -0.9916897355482444.\n",
      "[I 2023-08-24 18:05:54,462] Trial 5 finished with value: -0.9873996964363967 and parameters: {'criterion': 'entropy', 'max_depth': 4, 'min_samples_split': 4, 'min_samples_leaf': 7}. Best is trial 4 with value: -0.9916897355482444.\n",
      "[I 2023-08-24 18:05:55,602] Trial 6 finished with value: -0.9902279163482033 and parameters: {'criterion': 'entropy', 'max_depth': 10, 'min_samples_split': 7, 'min_samples_leaf': 8}. Best is trial 4 with value: -0.9916897355482444.\n",
      "[I 2023-08-24 18:05:56,116] Trial 7 finished with value: -0.9828367915138102 and parameters: {'criterion': 'gini', 'max_depth': 3, 'min_samples_split': 7, 'min_samples_leaf': 4}. Best is trial 4 with value: -0.9916897355482444.\n",
      "[I 2023-08-24 18:05:57,609] Trial 8 finished with value: -0.990136414610012 and parameters: {'criterion': 'gini', 'max_depth': 14, 'min_samples_split': 4, 'min_samples_leaf': 10}. Best is trial 4 with value: -0.9916897355482444.\n",
      "[I 2023-08-24 18:05:58,800] Trial 9 finished with value: -0.9899535269077709 and parameters: {'criterion': 'entropy', 'max_depth': 18, 'min_samples_split': 4, 'min_samples_leaf': 9}. Best is trial 4 with value: -0.9916897355482444.\n"
     ]
    },
    {
     "name": "stdout",
     "output_type": "stream",
     "text": [
      "Best parameters:  {'criterion': 'entropy', 'max_depth': 19, 'min_samples_split': 6, 'min_samples_leaf': 2}\n",
      "Best score:  0.9916897355482444\n"
     ]
    }
   ],
   "source": [
    "decision_tree = models[1][1].__class__\n",
    "best_params, best_score = tune_model(decision_tree, X_train, y_train, \"DT\", parameters[\"DT\"], k=5)\n",
    "print(\"Best parameters: \", best_params)\n",
    "print(\"Best score: \", best_score)"
   ]
  },
  {
   "cell_type": "code",
   "execution_count": 31,
   "metadata": {},
   "outputs": [
    {
     "name": "stderr",
     "output_type": "stream",
     "text": [
      "[I 2023-09-02 12:08:37,228] A new study created in memory with name: no-name-7096c381-1e52-4d7e-a3ae-9b34a1145b10\n",
      "[I 2023-09-02 12:08:39,873] Trial 0 finished with value: -0.9944297146548269 and parameters: {'n_estimators': 41, 'criterion': 'entropy', 'max_depth': 5, 'min_samples_split': 2, 'min_samples_leaf': 1, 'n_jobs': -1}. Best is trial 0 with value: -0.9944297146548269.\n",
      "[I 2023-09-02 12:08:44,429] Trial 1 finished with value: -0.9954337856926028 and parameters: {'n_estimators': 83, 'criterion': 'gini', 'max_depth': 10, 'min_samples_split': 7, 'min_samples_leaf': 2, 'n_jobs': -1}. Best is trial 1 with value: -0.9954337856926028.\n",
      "[I 2023-09-02 12:08:45,463] Trial 2 finished with value: -0.9894994488011333 and parameters: {'n_estimators': 16, 'criterion': 'gini', 'max_depth': 3, 'min_samples_split': 8, 'min_samples_leaf': 3, 'n_jobs': -1}. Best is trial 1 with value: -0.9954337856926028.\n",
      "[I 2023-09-02 12:08:49,611] Trial 3 finished with value: -0.9937898301305736 and parameters: {'n_estimators': 77, 'criterion': 'gini', 'max_depth': 9, 'min_samples_split': 7, 'min_samples_leaf': 9, 'n_jobs': -1}. Best is trial 1 with value: -0.9954337856926028.\n",
      "[I 2023-09-02 12:08:54,461] Trial 4 finished with value: -0.9943382031320558 and parameters: {'n_estimators': 98, 'criterion': 'entropy', 'max_depth': 7, 'min_samples_split': 3, 'min_samples_leaf': 7, 'n_jobs': -1}. Best is trial 1 with value: -0.9954337856926028.\n",
      "[I 2023-09-02 12:08:58,155] Trial 5 finished with value: -0.9931509896182454 and parameters: {'n_estimators': 76, 'criterion': 'gini', 'max_depth': 6, 'min_samples_split': 3, 'min_samples_leaf': 10, 'n_jobs': -1}. Best is trial 1 with value: -0.9954337856926028.\n",
      "[I 2023-09-02 12:09:01,686] Trial 6 finished with value: -0.9941549594813213 and parameters: {'n_estimators': 60, 'criterion': 'gini', 'max_depth': 14, 'min_samples_split': 8, 'min_samples_leaf': 7, 'n_jobs': -1}. Best is trial 1 with value: -0.9954337856926028.\n",
      "[I 2023-09-02 12:09:06,225] Trial 7 finished with value: -0.9939726638964306 and parameters: {'n_estimators': 89, 'criterion': 'entropy', 'max_depth': 8, 'min_samples_split': 8, 'min_samples_leaf': 8, 'n_jobs': -1}. Best is trial 1 with value: -0.9954337856926028.\n",
      "[I 2023-09-02 12:09:10,369] Trial 8 finished with value: -0.9926951574137611 and parameters: {'n_estimators': 79, 'criterion': 'entropy', 'max_depth': 4, 'min_samples_split': 9, 'min_samples_leaf': 8, 'n_jobs': -1}. Best is trial 1 with value: -0.9954337856926028.\n",
      "[I 2023-09-02 12:09:13,363] Trial 9 finished with value: -0.9960727640906804 and parameters: {'n_estimators': 49, 'criterion': 'gini', 'max_depth': 18, 'min_samples_split': 6, 'min_samples_leaf': 1, 'n_jobs': -1}. Best is trial 9 with value: -0.9960727640906804.\n"
     ]
    },
    {
     "name": "stdout",
     "output_type": "stream",
     "text": [
      "Best parameters:  {'n_estimators': 49, 'criterion': 'gini', 'max_depth': 18, 'min_samples_split': 6, 'min_samples_leaf': 1, 'n_jobs': -1}\n",
      "Best score:  0.9960727640906804\n"
     ]
    }
   ],
   "source": [
    "random_forest = models[2][1].__class__\n",
    "best_params, best_score = tune_model(random_forest, X_train, y_train, \"RF\", parameters[\"RF\"], k=5)\n",
    "print(\"Best parameters: \", best_params)\n",
    "print(\"Best score: \", best_score)"
   ]
  },
  {
   "cell_type": "code",
   "execution_count": 32,
   "metadata": {},
   "outputs": [
    {
     "name": "stderr",
     "output_type": "stream",
     "text": [
      "[I 2023-09-02 12:10:17,498] A new study created in memory with name: no-name-8d65c3ee-b410-4470-95b9-f0242a87abf5\n",
      "[I 2023-09-02 12:16:40,292] Trial 0 finished with value: -0.9954330207223165 and parameters: {'kernel': 'linear', 'C': 5.618907011055436, 'gamma': 0.0968722981013086}. Best is trial 0 with value: -0.9954330207223165.\n",
      "[I 2023-09-02 12:16:47,135] Trial 1 finished with value: -0.9942474378484375 and parameters: {'kernel': 'rbf', 'C': 8.57572539232995, 'gamma': 0.053788173950030146}. Best is trial 0 with value: -0.9954330207223165.\n",
      "[I 2023-09-02 12:25:53,276] Trial 2 finished with value: -0.9954330207223165 and parameters: {'kernel': 'linear', 'C': 5.174058982851096, 'gamma': 0.0914635952032715}. Best is trial 0 with value: -0.9954330207223165.\n",
      "[I 2023-09-02 12:32:43,489] Trial 3 finished with value: -0.9954330207223165 and parameters: {'kernel': 'linear', 'C': 5.350338050711112, 'gamma': 0.025374258752290223}. Best is trial 0 with value: -0.9954330207223165.\n",
      "[I 2023-09-02 12:32:51,794] Trial 4 finished with value: -0.9922392235927919 and parameters: {'kernel': 'rbf', 'C': 2.3827209278261234, 'gamma': 0.04322399291933976}. Best is trial 0 with value: -0.9954330207223165.\n",
      "[I 2023-09-02 12:32:58,801] Trial 5 finished with value: -0.9934258306305003 and parameters: {'kernel': 'rbf', 'C': 7.184644887277124, 'gamma': 0.08769520672452924}. Best is trial 0 with value: -0.9954330207223165.\n",
      "[I 2023-09-02 12:38:30,462] Trial 6 finished with value: -0.9953415952561453 and parameters: {'kernel': 'linear', 'C': 3.156456312258019, 'gamma': 0.09346034378101661}. Best is trial 0 with value: -0.9954330207223165.\n",
      "[I 2023-09-02 12:38:38,711] Trial 7 finished with value: -0.9917830174093298 and parameters: {'kernel': 'rbf', 'C': 1.8154793589910696, 'gamma': 0.0838321201569282}. Best is trial 0 with value: -0.9954330207223165.\n",
      "[I 2023-09-02 12:44:16,708] Trial 8 finished with value: -0.9949759861563839 and parameters: {'kernel': 'linear', 'C': 2.5001314676222344, 'gamma': 0.06171851916755844}. Best is trial 0 with value: -0.9954330207223165.\n",
      "[I 2023-09-02 12:44:22,799] Trial 9 finished with value: -0.9942474378484375 and parameters: {'kernel': 'rbf', 'C': 8.60170141614898, 'gamma': 0.046737786610416374}. Best is trial 0 with value: -0.9954330207223165.\n"
     ]
    },
    {
     "name": "stdout",
     "output_type": "stream",
     "text": [
      "Best parameters:  {'kernel': 'linear', 'C': 5.618907011055436, 'gamma': 0.0968722981013086}\n",
      "Best score:  0.9954330207223165\n"
     ]
    }
   ],
   "source": [
    "svm = models[3][1].__class__\n",
    "best_params, best_score = tune_model(svm, X_train, y_train, \"SVM\", parameters[\"SVM\"], k=5)\n",
    "print(\"Best parameters: \", best_params)\n",
    "print(\"Best score: \", best_score)"
   ]
  },
  {
   "cell_type": "code",
   "execution_count": 31,
   "metadata": {},
   "outputs": [
    {
     "name": "stderr",
     "output_type": "stream",
     "text": [
      "[I 2023-08-24 19:38:06,608] A new study created in memory with name: no-name-fd4b24ae-a3f1-4446-88eb-a21235f5cbeb\n",
      "[I 2023-08-24 19:38:07,811] Trial 0 finished with value: -0.9880359343856877 and parameters: {'n_neighbors': 1, 'weights': 'uniform', 'metric': 'euclidean'}. Best is trial 0 with value: -0.9880359343856877.\n",
      "[I 2023-08-24 19:38:08,832] Trial 1 finished with value: -0.9708435972928283 and parameters: {'n_neighbors': 7, 'weights': 'uniform', 'metric': 'minkowski'}. Best is trial 0 with value: -0.9880359343856877.\n",
      "[I 2023-08-24 19:38:09,478] Trial 2 finished with value: -0.9799904736926756 and parameters: {'n_neighbors': 8, 'weights': 'distance', 'metric': 'euclidean'}. Best is trial 0 with value: -0.9880359343856877.\n",
      "[I 2023-08-24 19:38:13,602] Trial 3 finished with value: -0.9891319325139486 and parameters: {'n_neighbors': 8, 'weights': 'distance', 'metric': 'manhattan'}. Best is trial 3 with value: -0.9891319325139486.\n",
      "[I 2023-08-24 19:38:17,232] Trial 4 finished with value: -0.9891319325139486 and parameters: {'n_neighbors': 8, 'weights': 'distance', 'metric': 'manhattan'}. Best is trial 3 with value: -0.9891319325139486.\n",
      "[I 2023-08-24 19:38:20,727] Trial 5 finished with value: -0.9924196891377243 and parameters: {'n_neighbors': 2, 'weights': 'distance', 'metric': 'manhattan'}. Best is trial 5 with value: -0.9924196891377243.\n",
      "[I 2023-08-24 19:38:21,234] Trial 6 finished with value: -0.9830087216945875 and parameters: {'n_neighbors': 6, 'weights': 'distance', 'metric': 'minkowski'}. Best is trial 5 with value: -0.9924196891377243.\n",
      "[I 2023-08-24 19:38:21,751] Trial 7 finished with value: -0.9809056301836092 and parameters: {'n_neighbors': 7, 'weights': 'distance', 'metric': 'euclidean'}. Best is trial 5 with value: -0.9924196891377243.\n",
      "[I 2023-08-24 19:38:22,266] Trial 8 finished with value: -0.9857511491174462 and parameters: {'n_neighbors': 4, 'weights': 'distance', 'metric': 'minkowski'}. Best is trial 5 with value: -0.9924196891377243.\n",
      "[I 2023-08-24 19:38:25,797] Trial 9 finished with value: -0.9891319325139486 and parameters: {'n_neighbors': 8, 'weights': 'distance', 'metric': 'manhattan'}. Best is trial 5 with value: -0.9924196891377243.\n"
     ]
    },
    {
     "name": "stdout",
     "output_type": "stream",
     "text": [
      "Best parameters:  {'n_neighbors': 2, 'weights': 'distance', 'metric': 'manhattan'}\n",
      "Best score:  0.9924196891377243\n"
     ]
    }
   ],
   "source": [
    "knn = models[4][1].__class__\n",
    "best_params, best_score = tune_model(knn, X_train, y_train, \"KNN\", parameters[\"KNN\"], k=5)\n",
    "print(\"Best parameters: \", best_params)\n",
    "print(\"Best score: \", best_score)"
   ]
  },
  {
   "cell_type": "code",
   "execution_count": 32,
   "metadata": {},
   "outputs": [
    {
     "name": "stderr",
     "output_type": "stream",
     "text": [
      "[I 2023-08-24 19:38:37,282] A new study created in memory with name: no-name-fcdea3a9-09f1-4d21-9109-a974e5cf03e1\n",
      "[I 2023-08-24 19:39:48,824] Trial 0 finished with value: -0.9905962323845046 and parameters: {'n_estimators': 126, 'learning_rate': 0.013547748252091827, 'subsample': 0.8845009959320108, 'max_depth': 3, 'min_samples_split': 4, 'min_samples_leaf': 5}. Best is trial 0 with value: -0.9905962323845046.\n",
      "[I 2023-08-24 19:40:01,291] Trial 1 finished with value: -0.9923291667856967 and parameters: {'n_estimators': 38, 'learning_rate': 0.0776891056102944, 'subsample': 0.4002693057607967, 'max_depth': 4, 'min_samples_split': 5, 'min_samples_leaf': 9}. Best is trial 1 with value: -0.9923291667856967.\n",
      "[I 2023-08-24 19:40:48,244] Trial 2 finished with value: -0.9909598868681048 and parameters: {'n_estimators': 133, 'learning_rate': 0.03664980533571439, 'subsample': 0.7825815257950312, 'max_depth': 2, 'min_samples_split': 5, 'min_samples_leaf': 9}. Best is trial 1 with value: -0.9923291667856967.\n",
      "[I 2023-08-24 19:40:55,577] Trial 3 finished with value: -0.9842046649137967 and parameters: {'n_estimators': 22, 'learning_rate': 0.05955935458531694, 'subsample': 0.716527147484598, 'max_depth': 2, 'min_samples_split': 6, 'min_samples_leaf': 2}. Best is trial 1 with value: -0.9923291667856967.\n",
      "[I 2023-08-24 19:42:54,073] Trial 4 finished with value: -0.9960726894454384 and parameters: {'n_estimators': 124, 'learning_rate': 0.08942180616541094, 'subsample': 0.7662654523104089, 'max_depth': 6, 'min_samples_split': 10, 'min_samples_leaf': 8}. Best is trial 4 with value: -0.9960726894454384.\n",
      "[I 2023-08-24 19:44:04,061] Trial 5 finished with value: -0.9949772611512178 and parameters: {'n_estimators': 126, 'learning_rate': 0.05773750823348436, 'subsample': 0.698571772763526, 'max_depth': 4, 'min_samples_split': 10, 'min_samples_leaf': 4}. Best is trial 4 with value: -0.9960726894454384.\n",
      "[I 2023-08-24 19:44:10,727] Trial 6 finished with value: -0.9870343709825635 and parameters: {'n_estimators': 16, 'learning_rate': 0.049568245780404245, 'subsample': 0.6073926924529149, 'max_depth': 3, 'min_samples_split': 5, 'min_samples_leaf': 10}. Best is trial 4 with value: -0.9960726894454384.\n",
      "[I 2023-08-24 19:44:36,912] Trial 7 finished with value: -0.9930591214470613 and parameters: {'n_estimators': 96, 'learning_rate': 0.08008183768505302, 'subsample': 0.6330531401438158, 'max_depth': 2, 'min_samples_split': 4, 'min_samples_leaf': 5}. Best is trial 4 with value: -0.9960726894454384.\n",
      "[I 2023-08-24 19:45:22,030] Trial 8 finished with value: -0.9945207071379585 and parameters: {'n_estimators': 84, 'learning_rate': 0.038543228926264016, 'subsample': 0.47179802988204633, 'max_depth': 6, 'min_samples_split': 5, 'min_samples_leaf': 8}. Best is trial 4 with value: -0.9960726894454384.\n",
      "[I 2023-08-24 19:46:00,152] Trial 9 finished with value: -0.9944292394068366 and parameters: {'n_estimators': 74, 'learning_rate': 0.0834419018592925, 'subsample': 0.8303596439794048, 'max_depth': 3, 'min_samples_split': 9, 'min_samples_leaf': 10}. Best is trial 4 with value: -0.9960726894454384.\n"
     ]
    },
    {
     "name": "stdout",
     "output_type": "stream",
     "text": [
      "Best parameters:  {'n_estimators': 124, 'learning_rate': 0.08942180616541094, 'subsample': 0.7662654523104089, 'max_depth': 6, 'min_samples_split': 10, 'min_samples_leaf': 8}\n",
      "Best score:  0.9960726894454384\n"
     ]
    }
   ],
   "source": [
    "gradient_boosting = models[5][1].__class__\n",
    "best_params, best_score = tune_model(gradient_boosting, X_train, y_train, \"GB\", parameters[\"GB\"], k=5)\n",
    "print(\"Best parameters: \", best_params)\n",
    "print(\"Best score: \", best_score)\n"
   ]
  },
  {
   "cell_type": "code",
   "execution_count": 33,
   "metadata": {},
   "outputs": [
    {
     "name": "stderr",
     "output_type": "stream",
     "text": [
      "[I 2023-08-24 19:46:46,936] A new study created in memory with name: no-name-24fe055e-a97a-48e2-8225-489fbf5407a8\n",
      "[I 2023-08-24 19:46:58,624] Trial 0 finished with value: -0.9717698438615867 and parameters: {'n_estimators': 41, 'learning_rate': 0.030229363513724797}. Best is trial 0 with value: -0.9717698438615867.\n",
      "[I 2023-08-24 19:47:07,604] Trial 1 finished with value: -0.9761522407183234 and parameters: {'n_estimators': 31, 'learning_rate': 0.052213845302700214}. Best is trial 1 with value: -0.9761522407183234.\n",
      "[I 2023-08-24 19:47:16,385] Trial 2 finished with value: -0.971160450052829 and parameters: {'n_estimators': 29, 'learning_rate': 0.021417355542364406}. Best is trial 1 with value: -0.9761522407183234.\n",
      "[I 2023-08-24 19:47:27,140] Trial 3 finished with value: -0.9757866139610325 and parameters: {'n_estimators': 39, 'learning_rate': 0.041871484004951866}. Best is trial 1 with value: -0.9761522407183234.\n",
      "[I 2023-08-24 19:47:36,807] Trial 4 finished with value: -0.9825564218730938 and parameters: {'n_estimators': 35, 'learning_rate': 0.0868178074399436}. Best is trial 4 with value: -0.9825564218730938.\n",
      "[I 2023-08-24 19:47:44,359] Trial 5 finished with value: -0.9820081030186921 and parameters: {'n_estimators': 28, 'learning_rate': 0.07608367035257033}. Best is trial 4 with value: -0.9825564218730938.\n",
      "[I 2023-08-24 19:47:53,770] Trial 6 finished with value: -0.9674144730938122 and parameters: {'n_estimators': 35, 'learning_rate': 0.00427447799535662}. Best is trial 4 with value: -0.9825564218730938.\n",
      "[I 2023-08-24 19:48:03,636] Trial 7 finished with value: -0.9812774775043099 and parameters: {'n_estimators': 37, 'learning_rate': 0.054096411719559964}. Best is trial 4 with value: -0.9825564218730938.\n",
      "[I 2023-08-24 19:48:14,890] Trial 8 finished with value: -0.9831053108402795 and parameters: {'n_estimators': 40, 'learning_rate': 0.08535197810622798}. Best is trial 8 with value: -0.9831053108402795.\n",
      "[I 2023-08-24 19:48:26,833] Trial 9 finished with value: -0.9845675978359599 and parameters: {'n_estimators': 44, 'learning_rate': 0.09940802079742721}. Best is trial 9 with value: -0.9845675978359599.\n"
     ]
    },
    {
     "name": "stdout",
     "output_type": "stream",
     "text": [
      "Best parameters:  {'n_estimators': 44, 'learning_rate': 0.09940802079742721}\n",
      "Best score:  0.9845675978359599\n"
     ]
    }
   ],
   "source": [
    "adaboost = models[6][1].__class__\n",
    "best_params, best_score = tune_model(adaboost, X_train, y_train, \"AB\", parameters[\"AB\"], k=5)\n",
    "print(\"Best parameters: \", best_params)\n",
    "print(\"Best score: \", best_score)"
   ]
  },
  {
   "cell_type": "code",
   "execution_count": 34,
   "metadata": {},
   "outputs": [
    {
     "name": "stderr",
     "output_type": "stream",
     "text": [
      "[I 2023-08-24 19:53:58,718] A new study created in memory with name: no-name-881fd296-2b01-4d3c-ad4d-fff16f280f12\n",
      "[I 2023-08-24 19:54:02,838] Trial 0 finished with value: -0.5368759044912753 and parameters: {'activation': 'logistic', 'solver': 'adam', 'alpha': 1.3129380165643219, 'learning_rate_init': 0.09003516427393289}. Best is trial 0 with value: -0.5368759044912753.\n",
      "[I 2023-08-24 19:54:19,137] Trial 1 finished with value: -0.9812878554651027 and parameters: {'activation': 'relu', 'solver': 'adam', 'alpha': 5.828344153638823, 'learning_rate_init': 0.0009386837969320477}. Best is trial 1 with value: -0.9812878554651027.\n",
      "[I 2023-08-24 19:54:30,971] Trial 2 finished with value: -0.5984611759190377 and parameters: {'activation': 'logistic', 'solver': 'sgd', 'alpha': 6.926861722657606, 'learning_rate_init': 0.08708897276693751}. Best is trial 1 with value: -0.9812878554651027.\n",
      "[I 2023-08-24 19:54:36,011] Trial 3 finished with value: -0.47835671524314166 and parameters: {'activation': 'logistic', 'solver': 'adam', 'alpha': 4.8173285502987415, 'learning_rate_init': 0.09548199264314292}. Best is trial 1 with value: -0.9812878554651027.\n",
      "[I 2023-08-24 19:54:42,345] Trial 4 finished with value: -0.548722999719443 and parameters: {'activation': 'logistic', 'solver': 'adam', 'alpha': 1.237850977564271, 'learning_rate_init': 0.07644138527912205}. Best is trial 1 with value: -0.9812878554651027.\n",
      "[I 2023-08-24 19:54:55,920] Trial 5 finished with value: -0.9905019501068104 and parameters: {'activation': 'relu', 'solver': 'adam', 'alpha': 1.1506751776413437, 'learning_rate_init': 0.009204994576450012}. Best is trial 5 with value: -0.9905019501068104.\n",
      "[I 2023-08-24 19:55:04,778] Trial 6 finished with value: -0.5993744451893799 and parameters: {'activation': 'logistic', 'solver': 'sgd', 'alpha': 3.8354032000900884, 'learning_rate_init': 0.041420612771065804}. Best is trial 5 with value: -0.9905019501068104.\n",
      "[I 2023-08-24 19:55:15,556] Trial 7 finished with value: -0.5927029032292042 and parameters: {'activation': 'logistic', 'solver': 'sgd', 'alpha': 5.193960351250468, 'learning_rate_init': 0.06319062374491287}. Best is trial 5 with value: -0.9905019501068104.\n",
      "[I 2023-08-24 19:55:23,145] Trial 8 finished with value: -0.45410451588260337 and parameters: {'activation': 'relu', 'solver': 'sgd', 'alpha': 5.9497100107276015, 'learning_rate_init': 0.0271708521263299}. Best is trial 5 with value: -0.9905019501068104.\n",
      "[I 2023-08-24 19:55:30,774] Trial 9 finished with value: -0.7488715985815 and parameters: {'activation': 'relu', 'solver': 'adam', 'alpha': 1.8164076220078047, 'learning_rate_init': 0.05173720836247263}. Best is trial 5 with value: -0.9905019501068104.\n"
     ]
    },
    {
     "name": "stdout",
     "output_type": "stream",
     "text": [
      "Best parameters:  {'activation': 'relu', 'solver': 'adam', 'alpha': 1.1506751776413437, 'learning_rate_init': 0.009204994576450012}\n",
      "Best score:  0.9905019501068104\n"
     ]
    }
   ],
   "source": [
    "mlp = models[7][1].__class__\n",
    "best_params, best_score = tune_model(mlp, X_train, y_train, \"MLP\", parameters[\"MLP\"], k=5)\n",
    "print(\"Best parameters: \", best_params)\n",
    "print(\"Best score: \", best_score)"
   ]
  },
  {
   "cell_type": "code",
   "execution_count": 33,
   "metadata": {},
   "outputs": [
    {
     "name": "stderr",
     "output_type": "stream",
     "text": [
      "[I 2023-09-02 16:10:50,861] A new study created in memory with name: no-name-cb272306-ee13-4584-a0a4-f97f6ccb5b1d\n",
      "[I 2023-09-02 16:10:53,019] Trial 0 finished with value: -0.9938805362563501 and parameters: {'iterations': 70, 'learning_rate': 0.051803775594034984, 'l2_leaf_reg': 4.280583132767183, 'verbose': False}. Best is trial 0 with value: -0.9938805362563501.\n",
      "[I 2023-09-02 16:10:53,642] Trial 1 finished with value: -0.9902281825364654 and parameters: {'iterations': 16, 'learning_rate': 0.051714742956592404, 'l2_leaf_reg': 3.9965877966282757, 'verbose': False}. Best is trial 0 with value: -0.9938805362563501.\n",
      "[I 2023-09-02 16:10:56,679] Trial 2 finished with value: -0.9948853725443316 and parameters: {'iterations': 112, 'learning_rate': 0.051976365852249844, 'l2_leaf_reg': 5.185846793398808, 'verbose': False}. Best is trial 2 with value: -0.9948853725443316.\n",
      "[I 2023-09-02 16:10:58,472] Trial 3 finished with value: -0.9877614478505816 and parameters: {'iterations': 62, 'learning_rate': 0.0032289572033801397, 'l2_leaf_reg': 3.0431475894362072, 'verbose': False}. Best is trial 2 with value: -0.9948853725443316.\n",
      "[I 2023-09-02 16:11:01,899] Trial 4 finished with value: -0.990593442750494 and parameters: {'iterations': 131, 'learning_rate': 0.007129657950164352, 'l2_leaf_reg': 7.651561984298607, 'verbose': False}. Best is trial 2 with value: -0.9948853725443316.\n",
      "[I 2023-09-02 16:11:03,416] Trial 5 finished with value: -0.9953420036293286 and parameters: {'iterations': 53, 'learning_rate': 0.09487982811016026, 'l2_leaf_reg': 2.368180787585927, 'verbose': False}. Best is trial 5 with value: -0.9953420036293286.\n",
      "[I 2023-09-02 16:11:04,369] Trial 6 finished with value: -0.987944420410925 and parameters: {'iterations': 30, 'learning_rate': 0.0077499687147280436, 'l2_leaf_reg': 3.6776499407013143, 'verbose': False}. Best is trial 5 with value: -0.9953420036293286.\n",
      "[I 2023-09-02 16:11:06,186] Trial 7 finished with value: -0.9933327136550677 and parameters: {'iterations': 64, 'learning_rate': 0.029981249247077818, 'l2_leaf_reg': 3.4477337853673644, 'verbose': False}. Best is trial 5 with value: -0.9953420036293286.\n",
      "[I 2023-09-02 16:11:07,566] Trial 8 finished with value: -0.9898622375250401 and parameters: {'iterations': 46, 'learning_rate': 0.014311383545125926, 'l2_leaf_reg': 1.3185214153301557, 'verbose': False}. Best is trial 5 with value: -0.9953420036293286.\n",
      "[I 2023-09-02 16:11:09,824] Trial 9 finished with value: -0.9956159194733358 and parameters: {'iterations': 85, 'learning_rate': 0.07825322989722981, 'l2_leaf_reg': 3.0414487841929865, 'verbose': False}. Best is trial 9 with value: -0.9956159194733358.\n"
     ]
    },
    {
     "name": "stdout",
     "output_type": "stream",
     "text": [
      "Best parameters:  {'iterations': 85, 'learning_rate': 0.07825322989722981, 'l2_leaf_reg': 3.0414487841929865, 'verbose': False}\n",
      "Best score:  0.9956159194733358\n"
     ]
    }
   ],
   "source": [
    "catboost = models[8][1].__class__\n",
    "best_params, best_score = tune_model(catboost, X_train, y_train, \"CB\", parameters[\"CB\"], k=5)\n",
    "print(\"Best parameters: \", best_params)\n",
    "print(\"Best score: \", best_score)"
   ]
  },
  {
   "cell_type": "code",
   "execution_count": 34,
   "metadata": {},
   "outputs": [
    {
     "name": "stderr",
     "output_type": "stream",
     "text": [
      "[I 2023-09-02 16:18:00,378] A new study created in memory with name: no-name-d03e51a3-61a1-4b7d-bdc6-8b7b67abfe9a\n",
      "[I 2023-09-02 16:18:01,054] Trial 0 finished with value: -0.9929672629133528 and parameters: {'num_leaves': 89, 'learning_rate': 0.06862005413251294, 'colsample_bytree': 0.8673849366375331, 'subsample': 0.6104242166585201, 'subsample_freq': 6, 'reg_alpha': 9.349714132926255, 'reg_lambda': 9.322360357338194, 'n_jobs': -1, 'verbose': -1}. Best is trial 0 with value: -0.9929672629133528.\n",
      "[I 2023-09-02 16:18:01,736] Trial 1 finished with value: -0.9936983127997647 and parameters: {'num_leaves': 203, 'learning_rate': 0.055868101073013834, 'colsample_bytree': 0.603222468717984, 'subsample': 0.7072143084065972, 'subsample_freq': 2, 'reg_alpha': 7.236158183858153, 'reg_lambda': 1.1056420931434887, 'n_jobs': -1, 'verbose': -1}. Best is trial 1 with value: -0.9936983127997647.\n",
      "[I 2023-09-02 16:18:02,198] Trial 2 finished with value: -0.9918722040819118 and parameters: {'num_leaves': 139, 'learning_rate': 0.02620595485569026, 'colsample_bytree': 0.4363925758193864, 'subsample': 0.48130899185220116, 'subsample_freq': 6, 'reg_alpha': 4.055009758450737, 'reg_lambda': 7.528497165124863, 'n_jobs': -1, 'verbose': -1}. Best is trial 1 with value: -0.9936983127997647.\n",
      "[I 2023-09-02 16:18:03,130] Trial 3 finished with value: -0.9931502031428883 and parameters: {'num_leaves': 246, 'learning_rate': 0.07038812846751384, 'colsample_bytree': 0.575965750272651, 'subsample': 0.47534833888669803, 'subsample_freq': 1, 'reg_alpha': 6.870453243066514, 'reg_lambda': 5.576044980686689, 'n_jobs': -1, 'verbose': -1}. Best is trial 1 with value: -0.9936983127997647.\n",
      "[I 2023-09-02 16:18:03,748] Trial 4 finished with value: -0.9941544966292302 and parameters: {'num_leaves': 160, 'learning_rate': 0.04348078553145375, 'colsample_bytree': 0.6041966717722316, 'subsample': 0.6487108867413965, 'subsample_freq': 2, 'reg_alpha': 2.3446024207675964, 'reg_lambda': 2.5909218109896237, 'n_jobs': -1, 'verbose': -1}. Best is trial 4 with value: -0.9941544966292302.\n",
      "[I 2023-09-02 16:18:04,613] Trial 5 finished with value: -0.9950680360097787 and parameters: {'num_leaves': 250, 'learning_rate': 0.09837676287415487, 'colsample_bytree': 0.48697618035029516, 'subsample': 0.8292154445933932, 'subsample_freq': 4, 'reg_alpha': 4.511343316528328, 'reg_lambda': 2.605588011575658, 'n_jobs': -1, 'verbose': -1}. Best is trial 5 with value: -0.9950680360097787.\n",
      "[I 2023-09-02 16:18:05,580] Trial 6 finished with value: -0.9947022839336345 and parameters: {'num_leaves': 174, 'learning_rate': 0.048843675623039144, 'colsample_bytree': 0.8546356313286143, 'subsample': 0.781547755139813, 'subsample_freq': 4, 'reg_alpha': 3.283856776269801, 'reg_lambda': 1.3767860414959459, 'n_jobs': -1, 'verbose': -1}. Best is trial 5 with value: -0.9950680360097787.\n",
      "[I 2023-09-02 16:18:06,048] Trial 7 finished with value: -0.9915055548496265 and parameters: {'num_leaves': 69, 'learning_rate': 0.008429449563111294, 'colsample_bytree': 0.5869335011027779, 'subsample': 0.7055351909107421, 'subsample_freq': 6, 'reg_alpha': 8.641764022912373, 'reg_lambda': 6.3965429594289995, 'n_jobs': -1, 'verbose': -1}. Best is trial 5 with value: -0.9950680360097787.\n",
      "[I 2023-09-02 16:18:06,609] Trial 8 finished with value: -0.9929671872689413 and parameters: {'num_leaves': 153, 'learning_rate': 0.03668502423104281, 'colsample_bytree': 0.7304209998080926, 'subsample': 0.7995555697157046, 'subsample_freq': 7, 'reg_alpha': 8.887229971849269, 'reg_lambda': 3.899807148466654, 'n_jobs': -1, 'verbose': -1}. Best is trial 5 with value: -0.9950680360097787.\n",
      "[I 2023-09-02 16:18:07,128] Trial 9 finished with value: -0.9941547085148923 and parameters: {'num_leaves': 122, 'learning_rate': 0.08688374051876717, 'colsample_bytree': 0.5502908816221521, 'subsample': 0.6850239688258637, 'subsample_freq': 7, 'reg_alpha': 7.147422063553843, 'reg_lambda': 5.502583326981337, 'n_jobs': -1, 'verbose': -1}. Best is trial 5 with value: -0.9950680360097787.\n"
     ]
    },
    {
     "name": "stdout",
     "output_type": "stream",
     "text": [
      "Best parameters:  {'num_leaves': 250, 'learning_rate': 0.09837676287415487, 'colsample_bytree': 0.48697618035029516, 'subsample': 0.8292154445933932, 'subsample_freq': 4, 'reg_alpha': 4.511343316528328, 'reg_lambda': 2.605588011575658, 'n_jobs': -1, 'verbose': -1}\n",
      "Best score:  0.9950680360097787\n"
     ]
    }
   ],
   "source": [
    "lgbm = models[9][1].__class__\n",
    "best_params, best_score = tune_model(lgbm, X_train, y_train, \"LGBM\", parameters[\"LGBM\"], k=5)\n",
    "print(\"Best parameters: \", best_params)\n",
    "print(\"Best score: \", best_score)"
   ]
  },
  {
   "cell_type": "code",
   "execution_count": 22,
   "metadata": {},
   "outputs": [],
   "source": [
    "# function to test different models using the best parameters\n",
    "def test_model(model_class, X_train, y_train, X_test, y_test, model_name, best_params):\n",
    "    # set the model parameters to the best ones\n",
    "    model = model_class(**best_params)    \n",
    "    # fit the model on the train set\n",
    "    model.fit(X_train, y_train)\n",
    "\n",
    "    # predict and evaluate on the test set\n",
    "    pred = model.predict(X_test)\n",
    "\n",
    "    # calculate accuracy\n",
    "    score = accuracy_score(y_test, pred)\n",
    "\n",
    "    # calculate f1 score\n",
    "    f1 = f1_score(y_test, pred, average='weighted')\n",
    "\n",
    "    # calculate precision\n",
    "    precision = precision_score(y_test, pred, average='weighted')\n",
    "\n",
    "    # calculate recall\n",
    "    recall = recall_score(y_test, pred, average='weighted')\n",
    "\n",
    "    # calculate confusion matrix\n",
    "    cm = confusion_matrix(y_test, pred)\n",
    "  \n",
    "    # calculate roc auc score\n",
    "    roc_auc = roc_auc_score(y_test, pred)\n",
    "\n",
    "    # return all metrics\n",
    "    return score, f1, precision, recall, cm, roc_auc,model\n",
    "\n",
    "    "
   ]
  },
  {
   "cell_type": "code",
   "execution_count": 25,
   "metadata": {},
   "outputs": [],
   "source": [
    "df = pd.DataFrame(columns=['model', 'accuracy', 'f1', 'precision', 'recall', 'specificity', 'sensitivity', 'roc_auc', 'cm'])\n",
    "best_params = {}\n",
    "best_params[\"LR\"] = {'penalty': 'l2', 'C': 9.237343450463149, 'solver': 'liblinear'}\n",
    "best_params[\"DT\"] =   {'criterion': 'entropy', 'max_depth': 18, 'min_samples_split': 8, 'min_samples_leaf': 4}\n",
    "best_params[\"SVM\"] =  {'kernel': 'linear', 'C': 6.072325341490034, 'gamma': 0.03169530704200389,'random_state': 42}\n",
    "best_params[\"RF\"] =  {'n_estimators': 43, 'criterion': 'gini', 'max_depth': 18, 'min_samples_split': 2, 'min_samples_leaf': 1, 'n_jobs': -1}\n",
    "\n",
    "best_params[\"KNN\"] = {'n_neighbors': 4, 'weights': 'distance', 'metric': 'manhattan'}\n",
    "best_params[\"MLP\"] = {'activation': 'relu', 'solver': 'adam', 'alpha': 0.26133682036320377, 'learning_rate_init': 0.036337908752116156}\n",
    "best_params[\"GB\"] = {'n_estimators': 148, 'learning_rate': 0.05954721899653961, 'subsample': 0.5845888910424589, 'max_depth': 5, 'min_samples_split': 4, 'min_samples_leaf': 2}\n",
    "best_params[\"AB\"] = {'n_estimators': 39, 'learning_rate': 0.09834157052470563}\n",
    "best_params[\"LGBM\"] = {'num_leaves': 98, 'learning_rate': 0.07065403635445651, 'colsample_bytree': 0.8999631895955248, 'subsample': 0.8573313782213396, 'subsample_freq': 3, 'reg_alpha': 4.249155539863275, 'reg_lambda': 0.14380522744099736, 'n_jobs': -1, 'verbose': -1}\n",
    "best_params[\"CB\"] =   {'iterations': 147, 'learning_rate': 0.06128074885165292, 'l2_leaf_reg': 1.2442246935316894, 'verbose': False}\n",
    "# loop over the models list\n",
    "for name, model in models:\n",
    "    # get the best parameters for the current model\n",
    "    best_params_ = best_params[name]\n",
    "    \n",
    "    # test the model using the best parameters\n",
    "    score, f1, precision, recall, cm, roc_auc,model = test_model(model.__class__, X_train, y_train, X_test, y_test, name, best_params_)\n",
    "    \n",
    "    # calculate specificity and sensitivity from the confusion matrix\n",
    "    tn, fp, fn, tp = cm.ravel()\n",
    "    specificity = tn / (tn + fp)\n",
    "    sensitivity = tp / (tp + fn)\n",
    "    \n",
    "    # append the metrics to the dataframe\n",
    "    df = pd.concat([df, pd.DataFrame({'model': [model],\n",
    "                                  'accuracy': [score],\n",
    "                                  'f1': [f1],\n",
    "                                  'precision': [precision],\n",
    "                                  'recall': [recall],\n",
    "                                  'specificity': [specificity],\n",
    "                                  'sensitivity': [sensitivity],\n",
    "                                  'roc_auc': [roc_auc],\n",
    "                                    'cm': [cm]})], ignore_index=True)\n",
    "                               \n"
   ]
  },
  {
   "cell_type": "code",
   "execution_count": 27,
   "metadata": {},
   "outputs": [
    {
     "data": {
      "text/html": [
       "<div>\n",
       "<style scoped>\n",
       "    .dataframe tbody tr th:only-of-type {\n",
       "        vertical-align: middle;\n",
       "    }\n",
       "\n",
       "    .dataframe tbody tr th {\n",
       "        vertical-align: top;\n",
       "    }\n",
       "\n",
       "    .dataframe thead th {\n",
       "        text-align: right;\n",
       "    }\n",
       "</style>\n",
       "<table border=\"1\" class=\"dataframe\">\n",
       "  <thead>\n",
       "    <tr style=\"text-align: right;\">\n",
       "      <th></th>\n",
       "      <th>model</th>\n",
       "      <th>accuracy</th>\n",
       "      <th>f1</th>\n",
       "      <th>precision</th>\n",
       "      <th>recall</th>\n",
       "      <th>specificity</th>\n",
       "      <th>sensitivity</th>\n",
       "      <th>roc_auc</th>\n",
       "    </tr>\n",
       "  </thead>\n",
       "  <tbody>\n",
       "    <tr>\n",
       "      <th>0</th>\n",
       "      <td>LogisticRegression</td>\n",
       "      <td>0.996713</td>\n",
       "      <td>0.996713</td>\n",
       "      <td>0.996713</td>\n",
       "      <td>0.996713</td>\n",
       "      <td>0.996032</td>\n",
       "      <td>0.997294</td>\n",
       "      <td>0.996663</td>\n",
       "    </tr>\n",
       "    <tr>\n",
       "      <th>1</th>\n",
       "      <td>DecisionTreeClassifier</td>\n",
       "      <td>0.995982</td>\n",
       "      <td>0.995982</td>\n",
       "      <td>0.995983</td>\n",
       "      <td>0.995982</td>\n",
       "      <td>0.995238</td>\n",
       "      <td>0.996617</td>\n",
       "      <td>0.995928</td>\n",
       "    </tr>\n",
       "    <tr>\n",
       "      <th>2</th>\n",
       "      <td>RandomForestClassifier</td>\n",
       "      <td>0.998174</td>\n",
       "      <td>0.998174</td>\n",
       "      <td>0.998177</td>\n",
       "      <td>0.998174</td>\n",
       "      <td>0.999206</td>\n",
       "      <td>0.997294</td>\n",
       "      <td>0.998250</td>\n",
       "    </tr>\n",
       "    <tr>\n",
       "      <th>3</th>\n",
       "      <td>SVC</td>\n",
       "      <td>0.996713</td>\n",
       "      <td>0.996713</td>\n",
       "      <td>0.996715</td>\n",
       "      <td>0.996713</td>\n",
       "      <td>0.995238</td>\n",
       "      <td>0.997970</td>\n",
       "      <td>0.996604</td>\n",
       "    </tr>\n",
       "    <tr>\n",
       "      <th>4</th>\n",
       "      <td>KNeighborsClassifier</td>\n",
       "      <td>0.994156</td>\n",
       "      <td>0.994157</td>\n",
       "      <td>0.994158</td>\n",
       "      <td>0.994156</td>\n",
       "      <td>0.994444</td>\n",
       "      <td>0.993911</td>\n",
       "      <td>0.994178</td>\n",
       "    </tr>\n",
       "    <tr>\n",
       "      <th>5</th>\n",
       "      <td>GradientBoostingClassifier</td>\n",
       "      <td>0.997078</td>\n",
       "      <td>0.997079</td>\n",
       "      <td>0.997089</td>\n",
       "      <td>0.997078</td>\n",
       "      <td>0.999206</td>\n",
       "      <td>0.995264</td>\n",
       "      <td>0.997235</td>\n",
       "    </tr>\n",
       "    <tr>\n",
       "      <th>6</th>\n",
       "      <td>AdaBoostClassifier</td>\n",
       "      <td>0.992695</td>\n",
       "      <td>0.992695</td>\n",
       "      <td>0.992695</td>\n",
       "      <td>0.992695</td>\n",
       "      <td>0.992063</td>\n",
       "      <td>0.993234</td>\n",
       "      <td>0.992649</td>\n",
       "    </tr>\n",
       "    <tr>\n",
       "      <th>7</th>\n",
       "      <td>MLPClassifier</td>\n",
       "      <td>0.990869</td>\n",
       "      <td>0.990873</td>\n",
       "      <td>0.990936</td>\n",
       "      <td>0.990869</td>\n",
       "      <td>0.996032</td>\n",
       "      <td>0.986468</td>\n",
       "      <td>0.991250</td>\n",
       "    </tr>\n",
       "    <tr>\n",
       "      <th>8</th>\n",
       "      <td>CatBoostClassifier</td>\n",
       "      <td>0.998539</td>\n",
       "      <td>0.998539</td>\n",
       "      <td>0.998540</td>\n",
       "      <td>0.998539</td>\n",
       "      <td>0.999206</td>\n",
       "      <td>0.997970</td>\n",
       "      <td>0.998588</td>\n",
       "    </tr>\n",
       "    <tr>\n",
       "      <th>9</th>\n",
       "      <td>LGBMClassifier</td>\n",
       "      <td>0.997809</td>\n",
       "      <td>0.997809</td>\n",
       "      <td>0.997809</td>\n",
       "      <td>0.997809</td>\n",
       "      <td>0.997619</td>\n",
       "      <td>0.997970</td>\n",
       "      <td>0.997795</td>\n",
       "    </tr>\n",
       "  </tbody>\n",
       "</table>\n",
       "</div>"
      ],
      "text/plain": [
       "                        model  accuracy        f1  precision    recall  \\\n",
       "0          LogisticRegression  0.996713  0.996713   0.996713  0.996713   \n",
       "1      DecisionTreeClassifier  0.995982  0.995982   0.995983  0.995982   \n",
       "2      RandomForestClassifier  0.998174  0.998174   0.998177  0.998174   \n",
       "3                         SVC  0.996713  0.996713   0.996715  0.996713   \n",
       "4        KNeighborsClassifier  0.994156  0.994157   0.994158  0.994156   \n",
       "5  GradientBoostingClassifier  0.997078  0.997079   0.997089  0.997078   \n",
       "6          AdaBoostClassifier  0.992695  0.992695   0.992695  0.992695   \n",
       "7               MLPClassifier  0.990869  0.990873   0.990936  0.990869   \n",
       "8          CatBoostClassifier  0.998539  0.998539   0.998540  0.998539   \n",
       "9              LGBMClassifier  0.997809  0.997809   0.997809  0.997809   \n",
       "\n",
       "   specificity  sensitivity   roc_auc  \n",
       "0     0.996032     0.997294  0.996663  \n",
       "1     0.995238     0.996617  0.995928  \n",
       "2     0.999206     0.997294  0.998250  \n",
       "3     0.995238     0.997970  0.996604  \n",
       "4     0.994444     0.993911  0.994178  \n",
       "5     0.999206     0.995264  0.997235  \n",
       "6     0.992063     0.993234  0.992649  \n",
       "7     0.996032     0.986468  0.991250  \n",
       "8     0.999206     0.997970  0.998588  \n",
       "9     0.997619     0.997970  0.997795  "
      ]
     },
     "execution_count": 27,
     "metadata": {},
     "output_type": "execute_result"
    }
   ],
   "source": [
    "score_df = df.drop(['cm'], axis=1)\n",
    "# replace model with model.__name__\n",
    "score_df['model'] = score_df['model'].apply(lambda x: x.__class__.__name__)\n",
    "score_df"
   ]
  },
  {
   "cell_type": "code",
   "execution_count": 28,
   "metadata": {},
   "outputs": [
    {
     "data": {
      "text/plain": [
       "'CatBoostClassifier'"
      ]
     },
     "execution_count": 28,
     "metadata": {},
     "output_type": "execute_result"
    }
   ],
   "source": [
    "# model with highest accuracy\n",
    "best_model = df[df['accuracy'] == df['accuracy'].max()]\n",
    "best_model = best_model.iloc[0]\n",
    "best_model['model'].__class__.__name__"
   ]
  },
  {
   "cell_type": "code",
   "execution_count": 29,
   "metadata": {},
   "outputs": [
    {
     "data": {
      "image/png": "[encoded data removed]",
      "text/plain": [
       "<Figure size 500x500 with 2 Axes>"
      ]
     },
     "metadata": {},
     "output_type": "display_data"
    }
   ],
   "source": [
    "# confusion matrix\n",
    "cm = best_model[\"cm\"]\n",
    "plt.figure(figsize=(5, 5))\n",
    "sns.heatmap(cm, annot=True, cmap=\"plasma\", fmt=\"d\")\n",
    "plt.title('Confusion Matrix')\n",
    "plt.xlabel('Predicted')\n",
    "plt.ylabel('Actual')\n",
    "plt.show()\n"
   ]
  },
  {
   "cell_type": "code",
   "execution_count": 30,
   "metadata": {},
   "outputs": [
    {
     "data": {
      "image/png": "[encoded data removed]",
      "text/plain": [
       "<Figure size 640x480 with 1 Axes>"
      ]
     },
     "metadata": {},
     "output_type": "display_data"
    }
   ],
   "source": [
    "import sklearn.metrics as metrics\n",
    "best_model = best_model['model']\n",
    "\n",
    "probs = best_model.predict_proba(X_test)\n",
    "preds = probs[:,1]\n",
    "fpr, tpr, threshold = metrics.roc_curve(y_test, preds)\n",
    "roc_auc = metrics.auc(fpr, tpr)\n",
    "\n",
    "# plot the ROC curve\n",
    "plt.title('Receiver Operating Characteristic')\n",
    "plt.plot(fpr, tpr, 'b', label = 'AUC = %0.2f' % roc_auc)\n",
    "plt.legend(loc = 'lower right')\n",
    "plt.plot([0, 1], [0, 1],'r--')\n",
    "plt.xlim([0, 1])\n",
    "plt.ylim([0, 1])\n",
    "plt.ylabel('True Positive Rate')\n",
    "plt.xlabel('False Positive Rate')\n",
    "plt.show()"
   ]
  }
 ],
 "metadata": {
  "kernelspec": {
   "display_name": "Python 3 (ipykernel)",
   "language": "python",
   "name": "python3"
  },
  "language_info": {
   "codemirror_mode": {
    "name": "ipython",
    "version": 3
   },
   "file_extension": ".py",
   "mimetype": "text/x-python",
   "name": "python",
   "nbconvert_exporter": "python",
   "pygments_lexer": "ipython3",
   "version": "3.8.10"
  },
  "vscode": {
   "interpreter": {
    "hash": "75f24b2c1d0423c4b1260d38885f91fb428a5cd1c296bc4b79f98bedd0b5ff72"
   }
  }
 },
 "nbformat": 4,
 "nbformat_minor": 2
}
